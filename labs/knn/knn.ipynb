{
 "cells": [
  {
   "cell_type": "code",
   "execution_count": 3,
   "metadata": {},
   "outputs": [
    {
     "name": "stdout",
     "output_type": "stream",
     "text": [
      "        V1     V2      V3     V4     V5     V6     V7  Class\n",
      "0    15.26  14.84  0.8710  5.763  3.312  2.221  5.220      1\n",
      "1    14.88  14.57  0.8811  5.554  3.333  1.018  4.956      1\n",
      "2    14.29  14.09  0.9050  5.291  3.337  2.699  4.825      1\n",
      "3    13.84  13.94  0.8955  5.324  3.379  2.259  4.805      1\n",
      "4    16.14  14.99  0.9034  5.658  3.562  1.355  5.175      1\n",
      "..     ...    ...     ...    ...    ...    ...    ...    ...\n",
      "205  12.19  13.20  0.8783  5.137  2.981  3.631  4.870      3\n",
      "206  11.23  12.88  0.8511  5.140  2.795  4.325  5.003      3\n",
      "207  13.20  13.66  0.8883  5.236  3.232  8.315  5.056      3\n",
      "208  11.84  13.21  0.8521  5.175  2.836  3.598  5.044      3\n",
      "209  12.30  13.34  0.8684  5.243  2.974  5.637  5.063      3\n",
      "\n",
      "[210 rows x 8 columns]\n"
     ]
    }
   ],
   "source": [
    "import pandas as pd\n",
    "\n",
    "filename = 'dataset.csv'\n",
    "dataset = pd.read_csv(filename)\n",
    "print(dataset)"
   ]
  },
  {
   "cell_type": "code",
   "execution_count": 4,
   "outputs": [
    {
     "name": "stdout",
     "output_type": "stream",
     "text": [
      "31\n"
     ]
    }
   ],
   "source": [
    "print(31)"
   ],
   "metadata": {
    "collapsed": false,
    "pycharm": {
     "name": "#%%\n"
    }
   }
  },
  {
   "cell_type": "code",
   "execution_count": 8,
   "outputs": [
    {
     "data": {
      "text/plain": "[('a', 1), ('b', 2)]"
     },
     "execution_count": 8,
     "metadata": {},
     "output_type": "execute_result"
    }
   ],
   "source": [
    "l = [('a', 1), ('b', 2), ('c', 3)]\n",
    "k = 2\n",
    "l_without_num = l[:k] + l[(k + 1):]\n",
    "l_without_num"
   ],
   "metadata": {
    "collapsed": false,
    "pycharm": {
     "name": "#%%\n"
    }
   }
  }
 ],
 "metadata": {
  "kernelspec": {
   "display_name": "Python 3",
   "language": "python",
   "name": "python3"
  },
  "language_info": {
   "codemirror_mode": {
    "name": "ipython",
    "version": 3
   },
   "file_extension": ".py",
   "mimetype": "text/x-python",
   "name": "python",
   "nbconvert_exporter": "python",
   "pygments_lexer": "ipython3",
   "version": "3.7.5"
  }
 },
 "nbformat": 4,
 "nbformat_minor": 4
}